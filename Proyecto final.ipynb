{
 "cells": [
  {
   "attachments": {},
   "cell_type": "markdown",
   "metadata": {},
   "source": [
    "<h3 style=\"text-align: center;\">Proyecto final:</h3> \n",
    "<h1 style=\"text-align: center;\">Ciencia de Datos Aplicada - Curso Capstone</h1> "
   ]
  },
  {
   "attachments": {},
   "cell_type": "markdown",
   "metadata": {},
   "source": [
    "<html>\n",
    "  <head>\n",
    "    <style>\n",
    "      p {\n",
    "        text-align: justify;\n",
    "      }\n",
    "    </style>\n",
    "  </head>\n",
    "  <body>\n",
    "    <p>Este documento representa el proyecto final del Programa especializado: Ciencia de Datos Aplicada, específicamente, del módulo Ciencia de Datos Aplicada - Curso Capstone. El objetivo del proyecto es aplicar las habilidades y conocimientos adquiridos durante el programa para resolver un problema real utilizando técnicas de análisis de datos y aprendizaje automático. Se utilizarán diversas herramientas y técnicas de análisis de datos para resolver el problema específico y se presentarán los resultados y conclusiones de forma clara y concisa. El proyecto abordará un tema relevante y de actualidad, para el cual se recopilará, limpiará y analizará un conjunto de datos que permita responder preguntas de interés. Los resultados del proyecto se presentarán en un informe detallado, con gráficos y visualizaciones que ayuden a comprender mejor los hallazgos y conclusiones del análisis de datos.</p>\n",
    "  </body>\n",
    "</html>"
   ]
  },
  {
   "attachments": {},
   "cell_type": "markdown",
   "metadata": {},
   "source": [
    "El enlace del repositorio de github es:\n",
    "https://github.com/Willer5000/Coursera_Capstone.git"
   ]
  },
  {
   "cell_type": "code",
   "execution_count": 1,
   "metadata": {},
   "outputs": [
    {
     "name": "stdout",
     "output_type": "stream",
     "text": [
      "¡Hola, Proyecto Final del Curso!\n"
     ]
    }
   ],
   "source": [
    "import pandas as pd\n",
    "import numpy as np\n",
    "\n",
    "print(\"¡Hola, Proyecto Final del Curso!\")"
   ]
  }
 ],
 "metadata": {
  "kernelspec": {
   "display_name": "Python 3",
   "language": "python",
   "name": "python3"
  },
  "language_info": {
   "codemirror_mode": {
    "name": "ipython",
    "version": 3
   },
   "file_extension": ".py",
   "mimetype": "text/x-python",
   "name": "python",
   "nbconvert_exporter": "python",
   "pygments_lexer": "ipython3",
   "version": "3.11.2"
  },
  "orig_nbformat": 4,
  "vscode": {
   "interpreter": {
    "hash": "1a3e26dffa6d1fb9385bd3e3aaf818f6464c8c90d9ffe048955a479740b5e16b"
   }
  }
 },
 "nbformat": 4,
 "nbformat_minor": 2
}
