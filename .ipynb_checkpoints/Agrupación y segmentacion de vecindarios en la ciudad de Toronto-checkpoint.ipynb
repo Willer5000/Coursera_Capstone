{
 "cells": [
  {
   "attachments": {},
   "cell_type": "markdown",
   "metadata": {},
   "source": [
    "<h1 style=\"text-align:center;\">Análisis de vecindarios de Toronto</h1>"
   ]
  },
  {
   "attachments": {},
   "cell_type": "markdown",
   "metadata": {},
   "source": [
    "# Introduccion"
   ]
  },
  {
   "attachments": {},
   "cell_type": "markdown",
   "metadata": {},
   "source": [
    "En esta tarea, se nos pide que exploremos, segmentemos y agrupemos los vecindarios de la ciudad de Toronto. Para este fin, se utilizará una página de Wikipedia que contiene la información necesaria para analizar y agrupar los vecindarios de Toronto. Aunque los datos de vecindarios no están disponibles en Internet, la ciencia de datos nos brinda la oportunidad de enfrentar desafíos únicos y aprender nuevas bibliotecas y herramientas según sea necesario.\n",
    "\n",
    "Para comenzar, rastrearemos la página de Wikipedia y limpiaremos los datos. Luego, leemos los datos en un marco de datos de pandas, para que estén en un formato estructurado como el conjunto de datos de Nueva York. Una vez que los datos estén estructurados adecuadamente, podremos analizar y agrupar los vecindarios de la ciudad de Toronto, replicando el análisis que se realizó en el conjunto de datos de la ciudad de Nueva York.\n",
    "\n",
    "La entrega final consistirá en un enlace a un Notebook Jupyter en un repositorio de Github que contenga nuestro análisis, segmentación y agrupamiento de los vecindarios de Toronto."
   ]
  },
  {
   "attachments": {},
   "cell_type": "markdown",
   "metadata": {},
   "source": [
    "### 1. Empiece por crear un nuevo Notebook para esta tarea."
   ]
  },
  {
   "attachments": {},
   "cell_type": "markdown",
   "metadata": {},
   "source": [
    "### 2. Use el Cuaderno para crear el código para rastrear la siguiente página de Wikipedia, https://en.wikipedia.org/wiki/List_of_postal_codes_of_Canada:_M, para obtener los datos que están en la tabla de códigos postales y transformar los datos en un marco de datos de pandas como el que se muestra a continuación:"
   ]
  },
  {
   "attachments": {},
   "cell_type": "markdown",
   "metadata": {},
   "source": [
    "Importacion de librerias"
   ]
  },
  {
   "cell_type": "code",
   "execution_count": 1,
   "metadata": {},
   "outputs": [],
   "source": [
    "#Importación de librerías.\n",
    "\n",
    "import requests # librería para manejar las solicitudes\n",
    "import pandas as pd # librería para análisis de datos\n",
    "import numpy as np # librería para manejar datos vectorizados\n",
    "import io\n",
    "import folium # librería para graficar \n",
    "from geopy.geocoders import Nominatim # módulo para convertir una dirección en valores de latitud y longitud \n",
    "from bs4 import BeautifulSoup"
   ]
  },
  {
   "attachments": {},
   "cell_type": "markdown",
   "metadata": {},
   "source": [
    "Proceso de Web Scraping a través de Beautiful Soup"
   ]
  },
  {
   "cell_type": "code",
   "execution_count": 2,
   "metadata": {},
   "outputs": [],
   "source": [
    "url=\"https://en.wikipedia.org/wiki/List_of_postal_codes_of_Canada:_M\"\n",
    "response=requests.get(url)\n",
    "\n",
    "soup = BeautifulSoup(response.content, \"html.parser\")\n",
    "contentTable  = soup.find('table')\n",
    "codes  = contentTable.findAll('b')\n",
    "boroughs_neighborhoods = contentTable.findAll('span')\n"
   ]
  },
  {
   "attachments": {},
   "cell_type": "markdown",
   "metadata": {},
   "source": [
    "Se crea un DataFrame vacío llamado df_toronto para almacenar los datos de la tabla extraída de Wikipedia. También se crean tres arrays vacíos, codes_array, boroughs_array y neighborhoods_array, para almacenar los códigos postales, municipios y vecindarios respectivamente."
   ]
  },
  {
   "cell_type": "code",
   "execution_count": 3,
   "metadata": {},
   "outputs": [],
   "source": [
    "df_toronto= pd.DataFrame() # dataframe que contiene los datos de la wikipedia, códdigo postal, municipios y vencindarios.\n",
    "codes_array = np.array([]) # array de códigos postales.\n",
    "boroughs_array = np.array([]) # array de municipios.\n",
    "neighborhoods_array = np.array([]) # array de vecindarios.\n",
    "for i in range(0, len(codes)):\n",
    "    codes[i] = codes[i].get_text()\n",
    "    boroughs_neighborhoods[i] = boroughs_neighborhoods[i].get_text()\n",
    "    boroughs_neighborhoods[i] = boroughs_neighborhoods[i].replace(\"(\", \"*\", 1) # Reemplazar carácter ( por * para no separar la cadena dos: boroughs y neighborhoods\n",
    "    boroughs_neighborhoods[i] = boroughs_neighborhoods[i].split(\"*\") \n",
    "\n",
    "    if boroughs_neighborhoods[i][0] != \"Not assigned\": # Solo procesando información válida\n",
    "        \n",
    "        boroughs_neighborhoods[i][1] = boroughs_neighborhoods[i][1].replace(\"(\", \", \") # Eliminando paréntesis\n",
    "        boroughs_neighborhoods[i][1] = boroughs_neighborhoods[i][1].replace(\")\", \" \") # Eliminando paréntesis\n",
    "        boroughs_neighborhoods[i][1] = boroughs_neighborhoods[i][1].replace(\" /\", \",\") # Cambiar barra oblicua por comas\n",
    "        \n",
    "        codes_array = np.append(codes_array, codes[i])\n",
    "        boroughs_array = np.append(boroughs_array, boroughs_neighborhoods[i][0])\n",
    "        neighborhoods_array = np.append(neighborhoods_array, boroughs_neighborhoods[i][1])"
   ]
  },
  {
   "cell_type": "code",
   "execution_count": 4,
   "metadata": {},
   "outputs": [],
   "source": [
    "# Añadiendo datos a columnas del dataframe\n",
    "df_toronto['Postal Code'] = codes_array.tolist()\n",
    "df_toronto['Borough'] = boroughs_array.tolist()\n",
    "df_toronto['Neighborhood'] = neighborhoods_array.tolist()"
   ]
  },
  {
   "cell_type": "code",
   "execution_count": 5,
   "metadata": {},
   "outputs": [
    {
     "data": {
      "text/html": [
       "<div>\n",
       "<style scoped>\n",
       "    .dataframe tbody tr th:only-of-type {\n",
       "        vertical-align: middle;\n",
       "    }\n",
       "\n",
       "    .dataframe tbody tr th {\n",
       "        vertical-align: top;\n",
       "    }\n",
       "\n",
       "    .dataframe thead th {\n",
       "        text-align: right;\n",
       "    }\n",
       "</style>\n",
       "<table border=\"1\" class=\"dataframe\">\n",
       "  <thead>\n",
       "    <tr style=\"text-align: right;\">\n",
       "      <th></th>\n",
       "      <th>Postal Code</th>\n",
       "      <th>Borough</th>\n",
       "      <th>Neighborhood</th>\n",
       "    </tr>\n",
       "  </thead>\n",
       "  <tbody>\n",
       "    <tr>\n",
       "      <th>0</th>\n",
       "      <td>M3A</td>\n",
       "      <td>North York</td>\n",
       "      <td>Parkwoods</td>\n",
       "    </tr>\n",
       "    <tr>\n",
       "      <th>1</th>\n",
       "      <td>M4A</td>\n",
       "      <td>North York</td>\n",
       "      <td>Victoria Village</td>\n",
       "    </tr>\n",
       "    <tr>\n",
       "      <th>2</th>\n",
       "      <td>M5A</td>\n",
       "      <td>Downtown Toronto</td>\n",
       "      <td>Regent Park, Harbourfront</td>\n",
       "    </tr>\n",
       "    <tr>\n",
       "      <th>3</th>\n",
       "      <td>M6A</td>\n",
       "      <td>North York</td>\n",
       "      <td>Lawrence Manor, Lawrence Heights</td>\n",
       "    </tr>\n",
       "    <tr>\n",
       "      <th>4</th>\n",
       "      <td>M7A</td>\n",
       "      <td>Queen's Park</td>\n",
       "      <td>Ontario Provincial Government</td>\n",
       "    </tr>\n",
       "    <tr>\n",
       "      <th>...</th>\n",
       "      <td>...</td>\n",
       "      <td>...</td>\n",
       "      <td>...</td>\n",
       "    </tr>\n",
       "    <tr>\n",
       "      <th>98</th>\n",
       "      <td>M8X</td>\n",
       "      <td>Etobicoke</td>\n",
       "      <td>The Kingsway, Montgomery Road, Old Mill North</td>\n",
       "    </tr>\n",
       "    <tr>\n",
       "      <th>99</th>\n",
       "      <td>M4Y</td>\n",
       "      <td>Downtown Toronto</td>\n",
       "      <td>Church and Wellesley</td>\n",
       "    </tr>\n",
       "    <tr>\n",
       "      <th>100</th>\n",
       "      <td>M7Y</td>\n",
       "      <td>East TorontoBusiness reply mail Processing Cen...</td>\n",
       "      <td>Enclave of M4L</td>\n",
       "    </tr>\n",
       "    <tr>\n",
       "      <th>101</th>\n",
       "      <td>M8Y</td>\n",
       "      <td>Etobicoke</td>\n",
       "      <td>Old Mill South, King's Mill Park, Sunnylea, Hu...</td>\n",
       "    </tr>\n",
       "    <tr>\n",
       "      <th>102</th>\n",
       "      <td>M8Z</td>\n",
       "      <td>Etobicoke</td>\n",
       "      <td>Mimico NW, The Queensway West, South of Bloor,...</td>\n",
       "    </tr>\n",
       "  </tbody>\n",
       "</table>\n",
       "<p>103 rows × 3 columns</p>\n",
       "</div>"
      ],
      "text/plain": [
       "    Postal Code                                            Borough  \\\n",
       "0           M3A                                         North York   \n",
       "1           M4A                                         North York   \n",
       "2           M5A                                   Downtown Toronto   \n",
       "3           M6A                                         North York   \n",
       "4           M7A                                       Queen's Park   \n",
       "..          ...                                                ...   \n",
       "98          M8X                                          Etobicoke   \n",
       "99          M4Y                                   Downtown Toronto   \n",
       "100         M7Y  East TorontoBusiness reply mail Processing Cen...   \n",
       "101         M8Y                                          Etobicoke   \n",
       "102         M8Z                                          Etobicoke   \n",
       "\n",
       "                                          Neighborhood  \n",
       "0                                           Parkwoods   \n",
       "1                                    Victoria Village   \n",
       "2                           Regent Park, Harbourfront   \n",
       "3                    Lawrence Manor, Lawrence Heights   \n",
       "4                       Ontario Provincial Government   \n",
       "..                                                 ...  \n",
       "98      The Kingsway, Montgomery Road, Old Mill North   \n",
       "99                               Church and Wellesley   \n",
       "100                                    Enclave of M4L   \n",
       "101  Old Mill South, King's Mill Park, Sunnylea, Hu...  \n",
       "102  Mimico NW, The Queensway West, South of Bloor,...  \n",
       "\n",
       "[103 rows x 3 columns]"
      ]
     },
     "execution_count": 5,
     "metadata": {},
     "output_type": "execute_result"
    }
   ],
   "source": [
    "df_toronto"
   ]
  },
  {
   "cell_type": "code",
   "execution_count": 6,
   "metadata": {},
   "outputs": [
    {
     "name": "stdout",
     "output_type": "stream",
     "text": [
      "Requirement already satisfied: html5lib in c:\\users\\wille\\appdata\\local\\programs\\python\\python311\\lib\\site-packages (1.1)\n",
      "Requirement already satisfied: six>=1.9 in c:\\users\\wille\\appdata\\local\\programs\\python\\python311\\lib\\site-packages (from html5lib) (1.16.0)\n",
      "Requirement already satisfied: webencodings in c:\\users\\wille\\appdata\\local\\programs\\python\\python311\\lib\\site-packages (from html5lib) (0.5.1)\n"
     ]
    }
   ],
   "source": [
    "!pip install html5lib"
   ]
  },
  {
   "cell_type": "code",
   "execution_count": 11,
   "metadata": {},
   "outputs": [
    {
     "name": "stdout",
     "output_type": "stream",
     "text": [
      "No se pudo encontrar ninguna tabla en la página web.\n"
     ]
    }
   ],
   "source": [
    "import pandas as pd\n",
    "import requests\n",
    "from bs4 import BeautifulSoup\n",
    "\n",
    "url = 'https://en.wikipedia.org/wiki/List_of_postal_codes_of_Canada:_M'\n",
    "\n",
    "# hacer la petición GET al sitio web\n",
    "page = requests.get(url)\n",
    "\n",
    "# crear la sopa\n",
    "soup = BeautifulSoup(page.content, 'html.parser')\n",
    "\n",
    "# buscar la tabla en la sopa\n",
    "tabla = soup.find('table', {'class': 'wikitable sortable'})\n",
    "\n",
    "# comprobar si se encontró una tabla\n",
    "if tabla is not None:\n",
    "    # convertir la tabla HTML a un DataFrame de pandas\n",
    "    df = pd.read_html(str(tabla))[0]\n",
    "    df.columns = ['CódigoPostal', 'Borough', 'Vecindario']\n",
    "\n",
    "    # procesar únicamente las celdas con municipio asignado\n",
    "    df = df[df['Borough'].notnull()]\n",
    "\n",
    "    # eliminar filas duplicadas\n",
    "    df.drop_duplicates(inplace=True)\n",
    "\n",
    "    # mostrar los resultados\n",
    "    print(df.head())\n",
    "else:\n",
    "    print('No se pudo encontrar ninguna tabla en la página web.')\n"
   ]
  },
  {
   "cell_type": "code",
   "execution_count": null,
   "metadata": {},
   "outputs": [],
   "source": []
  }
 ],
 "metadata": {
  "kernelspec": {
   "display_name": "Python 3",
   "language": "python",
   "name": "python3"
  },
  "language_info": {
   "codemirror_mode": {
    "name": "ipython",
    "version": 3
   },
   "file_extension": ".py",
   "mimetype": "text/x-python",
   "name": "python",
   "nbconvert_exporter": "python",
   "pygments_lexer": "ipython3",
   "version": "3.11.2"
  },
  "orig_nbformat": 4
 },
 "nbformat": 4,
 "nbformat_minor": 2
}
